{
 "cells": [
  {
   "cell_type": "markdown",
   "id": "536dda28",
   "metadata": {},
   "source": [
    "# ANALYSING WHY PATIENTS SHOW UP FOR A MEDICAL APPOINTMENT \n",
    "\n",
    " Author: Oluwatimilehin Folarin\n",
    " \n",
    " Date:06-08-2022"
   ]
  },
  {
   "cell_type": "markdown",
   "id": "c4793a98",
   "metadata": {},
   "source": [
    "### PROBLEM STATEMENT\n",
    "\n",
    "In this project, I will be analysing various factors that influence the decisions of patients whether to show up for their medical appointment or not from a dataset collected in Brazil. The dataset consists of information about a patients from a period between 2015 and 2016.\n",
    "\n",
    "It is believed that several reasons can attribute to the readiness and willingness of a patients to eventually go for his/her booked medicated appointment. Interestingly, this project gives a surgical visualization and explanantions to the various factors that could contribute to the reason patients in Brazil have tendency of showing up for booked medical appointments."
   ]
  },
  {
   "cell_type": "markdown",
   "id": "9dfc761a",
   "metadata": {},
   "source": [
    "### FILES\n",
    "\n",
    "Each row represents information about a patient, and each column contains patient's attributes described.\n",
    "\n",
    "There are 110,527 rows (patients) and 14 columns (features) in the raw dataset. "
   ]
  },
  {
   "cell_type": "markdown",
   "id": "6151f3e9",
   "metadata": {},
   "source": [
    "### Import basic libraries"
   ]
  },
  {
   "cell_type": "code",
   "execution_count": 1,
   "id": "1ca42b2c",
   "metadata": {},
   "outputs": [],
   "source": [
    "import pandas as pd\n",
    "import numpy as np\n",
    "import matplotlib.pyplot as plt\n",
    "import seaborn as sns\n",
    "%matplotlib inline"
   ]
  },
  {
   "cell_type": "markdown",
   "id": "c00a4a2c",
   "metadata": {},
   "source": [
    "### Import data"
   ]
  },
  {
   "cell_type": "code",
   "execution_count": 2,
   "id": "5f7d6717",
   "metadata": {},
   "outputs": [],
   "source": [
    "df = pd.read_csv(\"noshowappointments-kagglev2-may-2016.csv\", parse_dates = ['ScheduledDay', 'AppointmentDay']) #The date columns have been converted to datetime with the \"parse_dates\" function."
   ]
  },
  {
   "cell_type": "markdown",
   "id": "86809fbb",
   "metadata": {},
   "source": [
    "### Quick glance at the dataset"
   ]
  },
  {
   "cell_type": "code",
   "execution_count": 3,
   "id": "493925b1",
   "metadata": {},
   "outputs": [
    {
     "data": {
      "text/html": [
       "<div>\n",
       "<style scoped>\n",
       "    .dataframe tbody tr th:only-of-type {\n",
       "        vertical-align: middle;\n",
       "    }\n",
       "\n",
       "    .dataframe tbody tr th {\n",
       "        vertical-align: top;\n",
       "    }\n",
       "\n",
       "    .dataframe thead th {\n",
       "        text-align: right;\n",
       "    }\n",
       "</style>\n",
       "<table border=\"1\" class=\"dataframe\">\n",
       "  <thead>\n",
       "    <tr style=\"text-align: right;\">\n",
       "      <th></th>\n",
       "      <th>PatientId</th>\n",
       "      <th>AppointmentID</th>\n",
       "      <th>Gender</th>\n",
       "      <th>ScheduledDay</th>\n",
       "      <th>AppointmentDay</th>\n",
       "      <th>Age</th>\n",
       "      <th>Neighbourhood</th>\n",
       "      <th>Scholarship</th>\n",
       "      <th>Hipertension</th>\n",
       "      <th>Diabetes</th>\n",
       "      <th>Alcoholism</th>\n",
       "      <th>Handcap</th>\n",
       "      <th>SMS_received</th>\n",
       "      <th>No-show</th>\n",
       "    </tr>\n",
       "  </thead>\n",
       "  <tbody>\n",
       "    <tr>\n",
       "      <th>0</th>\n",
       "      <td>2.987250e+13</td>\n",
       "      <td>5642903</td>\n",
       "      <td>F</td>\n",
       "      <td>2016-04-29 18:38:08+00:00</td>\n",
       "      <td>2016-04-29 00:00:00+00:00</td>\n",
       "      <td>62</td>\n",
       "      <td>JARDIM DA PENHA</td>\n",
       "      <td>0</td>\n",
       "      <td>1</td>\n",
       "      <td>0</td>\n",
       "      <td>0</td>\n",
       "      <td>0</td>\n",
       "      <td>0</td>\n",
       "      <td>No</td>\n",
       "    </tr>\n",
       "    <tr>\n",
       "      <th>1</th>\n",
       "      <td>5.589978e+14</td>\n",
       "      <td>5642503</td>\n",
       "      <td>M</td>\n",
       "      <td>2016-04-29 16:08:27+00:00</td>\n",
       "      <td>2016-04-29 00:00:00+00:00</td>\n",
       "      <td>56</td>\n",
       "      <td>JARDIM DA PENHA</td>\n",
       "      <td>0</td>\n",
       "      <td>0</td>\n",
       "      <td>0</td>\n",
       "      <td>0</td>\n",
       "      <td>0</td>\n",
       "      <td>0</td>\n",
       "      <td>No</td>\n",
       "    </tr>\n",
       "    <tr>\n",
       "      <th>2</th>\n",
       "      <td>4.262962e+12</td>\n",
       "      <td>5642549</td>\n",
       "      <td>F</td>\n",
       "      <td>2016-04-29 16:19:04+00:00</td>\n",
       "      <td>2016-04-29 00:00:00+00:00</td>\n",
       "      <td>62</td>\n",
       "      <td>MATA DA PRAIA</td>\n",
       "      <td>0</td>\n",
       "      <td>0</td>\n",
       "      <td>0</td>\n",
       "      <td>0</td>\n",
       "      <td>0</td>\n",
       "      <td>0</td>\n",
       "      <td>No</td>\n",
       "    </tr>\n",
       "    <tr>\n",
       "      <th>3</th>\n",
       "      <td>8.679512e+11</td>\n",
       "      <td>5642828</td>\n",
       "      <td>F</td>\n",
       "      <td>2016-04-29 17:29:31+00:00</td>\n",
       "      <td>2016-04-29 00:00:00+00:00</td>\n",
       "      <td>8</td>\n",
       "      <td>PONTAL DE CAMBURI</td>\n",
       "      <td>0</td>\n",
       "      <td>0</td>\n",
       "      <td>0</td>\n",
       "      <td>0</td>\n",
       "      <td>0</td>\n",
       "      <td>0</td>\n",
       "      <td>No</td>\n",
       "    </tr>\n",
       "    <tr>\n",
       "      <th>4</th>\n",
       "      <td>8.841186e+12</td>\n",
       "      <td>5642494</td>\n",
       "      <td>F</td>\n",
       "      <td>2016-04-29 16:07:23+00:00</td>\n",
       "      <td>2016-04-29 00:00:00+00:00</td>\n",
       "      <td>56</td>\n",
       "      <td>JARDIM DA PENHA</td>\n",
       "      <td>0</td>\n",
       "      <td>1</td>\n",
       "      <td>1</td>\n",
       "      <td>0</td>\n",
       "      <td>0</td>\n",
       "      <td>0</td>\n",
       "      <td>No</td>\n",
       "    </tr>\n",
       "  </tbody>\n",
       "</table>\n",
       "</div>"
      ],
      "text/plain": [
       "      PatientId  AppointmentID Gender              ScheduledDay  \\\n",
       "0  2.987250e+13        5642903      F 2016-04-29 18:38:08+00:00   \n",
       "1  5.589978e+14        5642503      M 2016-04-29 16:08:27+00:00   \n",
       "2  4.262962e+12        5642549      F 2016-04-29 16:19:04+00:00   \n",
       "3  8.679512e+11        5642828      F 2016-04-29 17:29:31+00:00   \n",
       "4  8.841186e+12        5642494      F 2016-04-29 16:07:23+00:00   \n",
       "\n",
       "             AppointmentDay  Age      Neighbourhood  Scholarship  \\\n",
       "0 2016-04-29 00:00:00+00:00   62    JARDIM DA PENHA            0   \n",
       "1 2016-04-29 00:00:00+00:00   56    JARDIM DA PENHA            0   \n",
       "2 2016-04-29 00:00:00+00:00   62      MATA DA PRAIA            0   \n",
       "3 2016-04-29 00:00:00+00:00    8  PONTAL DE CAMBURI            0   \n",
       "4 2016-04-29 00:00:00+00:00   56    JARDIM DA PENHA            0   \n",
       "\n",
       "   Hipertension  Diabetes  Alcoholism  Handcap  SMS_received No-show  \n",
       "0             1         0           0        0             0      No  \n",
       "1             0         0           0        0             0      No  \n",
       "2             0         0           0        0             0      No  \n",
       "3             0         0           0        0             0      No  \n",
       "4             1         1           0        0             0      No  "
      ]
     },
     "execution_count": 3,
     "metadata": {},
     "output_type": "execute_result"
    }
   ],
   "source": [
    "df.head()"
   ]
  },
  {
   "cell_type": "code",
   "execution_count": 4,
   "id": "333e8eac",
   "metadata": {},
   "outputs": [
    {
     "data": {
      "text/html": [
       "<div>\n",
       "<style scoped>\n",
       "    .dataframe tbody tr th:only-of-type {\n",
       "        vertical-align: middle;\n",
       "    }\n",
       "\n",
       "    .dataframe tbody tr th {\n",
       "        vertical-align: top;\n",
       "    }\n",
       "\n",
       "    .dataframe thead th {\n",
       "        text-align: right;\n",
       "    }\n",
       "</style>\n",
       "<table border=\"1\" class=\"dataframe\">\n",
       "  <thead>\n",
       "    <tr style=\"text-align: right;\">\n",
       "      <th></th>\n",
       "      <th>PatientId</th>\n",
       "      <th>AppointmentID</th>\n",
       "      <th>Gender</th>\n",
       "      <th>ScheduledDay</th>\n",
       "      <th>AppointmentDay</th>\n",
       "      <th>Age</th>\n",
       "      <th>Neighbourhood</th>\n",
       "      <th>Scholarship</th>\n",
       "      <th>Hipertension</th>\n",
       "      <th>Diabetes</th>\n",
       "      <th>Alcoholism</th>\n",
       "      <th>Handcap</th>\n",
       "      <th>SMS_received</th>\n",
       "      <th>No-show</th>\n",
       "    </tr>\n",
       "  </thead>\n",
       "  <tbody>\n",
       "    <tr>\n",
       "      <th>110522</th>\n",
       "      <td>2.572134e+12</td>\n",
       "      <td>5651768</td>\n",
       "      <td>F</td>\n",
       "      <td>2016-05-03 09:15:35+00:00</td>\n",
       "      <td>2016-06-07 00:00:00+00:00</td>\n",
       "      <td>56</td>\n",
       "      <td>MARIA ORTIZ</td>\n",
       "      <td>0</td>\n",
       "      <td>0</td>\n",
       "      <td>0</td>\n",
       "      <td>0</td>\n",
       "      <td>0</td>\n",
       "      <td>1</td>\n",
       "      <td>No</td>\n",
       "    </tr>\n",
       "    <tr>\n",
       "      <th>110523</th>\n",
       "      <td>3.596266e+12</td>\n",
       "      <td>5650093</td>\n",
       "      <td>F</td>\n",
       "      <td>2016-05-03 07:27:33+00:00</td>\n",
       "      <td>2016-06-07 00:00:00+00:00</td>\n",
       "      <td>51</td>\n",
       "      <td>MARIA ORTIZ</td>\n",
       "      <td>0</td>\n",
       "      <td>0</td>\n",
       "      <td>0</td>\n",
       "      <td>0</td>\n",
       "      <td>0</td>\n",
       "      <td>1</td>\n",
       "      <td>No</td>\n",
       "    </tr>\n",
       "    <tr>\n",
       "      <th>110524</th>\n",
       "      <td>1.557663e+13</td>\n",
       "      <td>5630692</td>\n",
       "      <td>F</td>\n",
       "      <td>2016-04-27 16:03:52+00:00</td>\n",
       "      <td>2016-06-07 00:00:00+00:00</td>\n",
       "      <td>21</td>\n",
       "      <td>MARIA ORTIZ</td>\n",
       "      <td>0</td>\n",
       "      <td>0</td>\n",
       "      <td>0</td>\n",
       "      <td>0</td>\n",
       "      <td>0</td>\n",
       "      <td>1</td>\n",
       "      <td>No</td>\n",
       "    </tr>\n",
       "    <tr>\n",
       "      <th>110525</th>\n",
       "      <td>9.213493e+13</td>\n",
       "      <td>5630323</td>\n",
       "      <td>F</td>\n",
       "      <td>2016-04-27 15:09:23+00:00</td>\n",
       "      <td>2016-06-07 00:00:00+00:00</td>\n",
       "      <td>38</td>\n",
       "      <td>MARIA ORTIZ</td>\n",
       "      <td>0</td>\n",
       "      <td>0</td>\n",
       "      <td>0</td>\n",
       "      <td>0</td>\n",
       "      <td>0</td>\n",
       "      <td>1</td>\n",
       "      <td>No</td>\n",
       "    </tr>\n",
       "    <tr>\n",
       "      <th>110526</th>\n",
       "      <td>3.775115e+14</td>\n",
       "      <td>5629448</td>\n",
       "      <td>F</td>\n",
       "      <td>2016-04-27 13:30:56+00:00</td>\n",
       "      <td>2016-06-07 00:00:00+00:00</td>\n",
       "      <td>54</td>\n",
       "      <td>MARIA ORTIZ</td>\n",
       "      <td>0</td>\n",
       "      <td>0</td>\n",
       "      <td>0</td>\n",
       "      <td>0</td>\n",
       "      <td>0</td>\n",
       "      <td>1</td>\n",
       "      <td>No</td>\n",
       "    </tr>\n",
       "  </tbody>\n",
       "</table>\n",
       "</div>"
      ],
      "text/plain": [
       "           PatientId  AppointmentID Gender              ScheduledDay  \\\n",
       "110522  2.572134e+12        5651768      F 2016-05-03 09:15:35+00:00   \n",
       "110523  3.596266e+12        5650093      F 2016-05-03 07:27:33+00:00   \n",
       "110524  1.557663e+13        5630692      F 2016-04-27 16:03:52+00:00   \n",
       "110525  9.213493e+13        5630323      F 2016-04-27 15:09:23+00:00   \n",
       "110526  3.775115e+14        5629448      F 2016-04-27 13:30:56+00:00   \n",
       "\n",
       "                  AppointmentDay  Age Neighbourhood  Scholarship  \\\n",
       "110522 2016-06-07 00:00:00+00:00   56   MARIA ORTIZ            0   \n",
       "110523 2016-06-07 00:00:00+00:00   51   MARIA ORTIZ            0   \n",
       "110524 2016-06-07 00:00:00+00:00   21   MARIA ORTIZ            0   \n",
       "110525 2016-06-07 00:00:00+00:00   38   MARIA ORTIZ            0   \n",
       "110526 2016-06-07 00:00:00+00:00   54   MARIA ORTIZ            0   \n",
       "\n",
       "        Hipertension  Diabetes  Alcoholism  Handcap  SMS_received No-show  \n",
       "110522             0         0           0        0             1      No  \n",
       "110523             0         0           0        0             1      No  \n",
       "110524             0         0           0        0             1      No  \n",
       "110525             0         0           0        0             1      No  \n",
       "110526             0         0           0        0             1      No  "
      ]
     },
     "execution_count": 4,
     "metadata": {},
     "output_type": "execute_result"
    }
   ],
   "source": [
    "df.tail()"
   ]
  },
  {
   "cell_type": "markdown",
   "id": "549aa8b3",
   "metadata": {},
   "source": [
    "## Data Cleaning"
   ]
  },
  {
   "cell_type": "markdown",
   "id": "13f190f0",
   "metadata": {},
   "source": [
    "### Converting all column names to lower case"
   ]
  },
  {
   "cell_type": "code",
   "execution_count": 5,
   "id": "d7b3e068",
   "metadata": {},
   "outputs": [],
   "source": [
    "df.columns = df.columns.str.lower()"
   ]
  },
  {
   "cell_type": "code",
   "execution_count": 6,
   "id": "b69677a1",
   "metadata": {},
   "outputs": [],
   "source": [
    "df.rename(columns = {'patientid':'patient_id', 'appointmentid': 'appointment_id', 'appointmentday':'appointment_day', 'scheduledday':'scheduled_day', 'no-show':'no_show'}, inplace=True)"
   ]
  },
  {
   "cell_type": "code",
   "execution_count": 7,
   "id": "595bc537",
   "metadata": {},
   "outputs": [
    {
     "data": {
      "text/html": [
       "<div>\n",
       "<style scoped>\n",
       "    .dataframe tbody tr th:only-of-type {\n",
       "        vertical-align: middle;\n",
       "    }\n",
       "\n",
       "    .dataframe tbody tr th {\n",
       "        vertical-align: top;\n",
       "    }\n",
       "\n",
       "    .dataframe thead th {\n",
       "        text-align: right;\n",
       "    }\n",
       "</style>\n",
       "<table border=\"1\" class=\"dataframe\">\n",
       "  <thead>\n",
       "    <tr style=\"text-align: right;\">\n",
       "      <th></th>\n",
       "      <th>patient_id</th>\n",
       "      <th>appointment_id</th>\n",
       "      <th>gender</th>\n",
       "      <th>scheduled_day</th>\n",
       "      <th>appointment_day</th>\n",
       "      <th>age</th>\n",
       "      <th>neighbourhood</th>\n",
       "      <th>scholarship</th>\n",
       "      <th>hipertension</th>\n",
       "      <th>diabetes</th>\n",
       "      <th>alcoholism</th>\n",
       "      <th>handcap</th>\n",
       "      <th>sms_received</th>\n",
       "      <th>no_show</th>\n",
       "    </tr>\n",
       "  </thead>\n",
       "  <tbody>\n",
       "    <tr>\n",
       "      <th>0</th>\n",
       "      <td>2.987250e+13</td>\n",
       "      <td>5642903</td>\n",
       "      <td>F</td>\n",
       "      <td>2016-04-29 18:38:08+00:00</td>\n",
       "      <td>2016-04-29 00:00:00+00:00</td>\n",
       "      <td>62</td>\n",
       "      <td>JARDIM DA PENHA</td>\n",
       "      <td>0</td>\n",
       "      <td>1</td>\n",
       "      <td>0</td>\n",
       "      <td>0</td>\n",
       "      <td>0</td>\n",
       "      <td>0</td>\n",
       "      <td>No</td>\n",
       "    </tr>\n",
       "    <tr>\n",
       "      <th>1</th>\n",
       "      <td>5.589978e+14</td>\n",
       "      <td>5642503</td>\n",
       "      <td>M</td>\n",
       "      <td>2016-04-29 16:08:27+00:00</td>\n",
       "      <td>2016-04-29 00:00:00+00:00</td>\n",
       "      <td>56</td>\n",
       "      <td>JARDIM DA PENHA</td>\n",
       "      <td>0</td>\n",
       "      <td>0</td>\n",
       "      <td>0</td>\n",
       "      <td>0</td>\n",
       "      <td>0</td>\n",
       "      <td>0</td>\n",
       "      <td>No</td>\n",
       "    </tr>\n",
       "  </tbody>\n",
       "</table>\n",
       "</div>"
      ],
      "text/plain": [
       "     patient_id  appointment_id gender             scheduled_day  \\\n",
       "0  2.987250e+13         5642903      F 2016-04-29 18:38:08+00:00   \n",
       "1  5.589978e+14         5642503      M 2016-04-29 16:08:27+00:00   \n",
       "\n",
       "            appointment_day  age    neighbourhood  scholarship  hipertension  \\\n",
       "0 2016-04-29 00:00:00+00:00   62  JARDIM DA PENHA            0             1   \n",
       "1 2016-04-29 00:00:00+00:00   56  JARDIM DA PENHA            0             0   \n",
       "\n",
       "   diabetes  alcoholism  handcap  sms_received no_show  \n",
       "0         0           0        0             0      No  \n",
       "1         0           0        0             0      No  "
      ]
     },
     "execution_count": 7,
     "metadata": {},
     "output_type": "execute_result"
    }
   ],
   "source": [
    "df.head(2)"
   ]
  },
  {
   "cell_type": "markdown",
   "id": "309d7653",
   "metadata": {},
   "source": [
    "### Number of observations and features in the dataset"
   ]
  },
  {
   "cell_type": "code",
   "execution_count": 8,
   "id": "464c13e2",
   "metadata": {},
   "outputs": [
    {
     "data": {
      "text/plain": [
       "(110527, 14)"
      ]
     },
     "execution_count": 8,
     "metadata": {},
     "output_type": "execute_result"
    }
   ],
   "source": [
    "df.shape"
   ]
  },
  {
   "cell_type": "markdown",
   "id": "f3cbdff2",
   "metadata": {},
   "source": [
    "There are 110,527 observations and 14 features in the raw dataset"
   ]
  },
  {
   "cell_type": "markdown",
   "id": "b2b5b62d",
   "metadata": {},
   "source": [
    "### checking data types of each columns"
   ]
  },
  {
   "cell_type": "code",
   "execution_count": 9,
   "id": "65c0a116",
   "metadata": {},
   "outputs": [
    {
     "data": {
      "text/plain": [
       "patient_id                     float64\n",
       "appointment_id                   int64\n",
       "gender                          object\n",
       "scheduled_day      datetime64[ns, UTC]\n",
       "appointment_day    datetime64[ns, UTC]\n",
       "age                              int64\n",
       "neighbourhood                   object\n",
       "scholarship                      int64\n",
       "hipertension                     int64\n",
       "diabetes                         int64\n",
       "alcoholism                       int64\n",
       "handcap                          int64\n",
       "sms_received                     int64\n",
       "no_show                         object\n",
       "dtype: object"
      ]
     },
     "execution_count": 9,
     "metadata": {},
     "output_type": "execute_result"
    }
   ],
   "source": [
    "df.dtypes"
   ]
  },
  {
   "cell_type": "markdown",
   "id": "39972572",
   "metadata": {},
   "source": [
    "NB: ALL THE COLUMNS ARE IN THEIR CORRECT DATA TYPES"
   ]
  },
  {
   "cell_type": "markdown",
   "id": "a1fdd93c",
   "metadata": {},
   "source": [
    "### Converting the \"no_show\" column to \"show\" for better communication.\n",
    "\n",
    "This implies that the 'Yes' will be inverted to 'No' and vice versa"
   ]
  },
  {
   "cell_type": "code",
   "execution_count": 10,
   "id": "06ce0500",
   "metadata": {},
   "outputs": [
    {
     "data": {
      "text/plain": [
       "No     88208\n",
       "Yes    22319\n",
       "Name: no_show, dtype: int64"
      ]
     },
     "execution_count": 10,
     "metadata": {},
     "output_type": "execute_result"
    }
   ],
   "source": [
    "df['no_show'].value_counts()"
   ]
  },
  {
   "cell_type": "code",
   "execution_count": 11,
   "id": "42ce3b0f",
   "metadata": {},
   "outputs": [],
   "source": [
    "df['no_show'] = df['no_show'].replace([\"No\",\"Yes\"],[\"Yes\", \"No\"])\n",
    "\n",
    "df['show'] = df['no_show']"
   ]
  },
  {
   "cell_type": "code",
   "execution_count": 12,
   "id": "a3850d0e",
   "metadata": {},
   "outputs": [],
   "source": [
    "df.drop(columns = ['no_show'], inplace=True)"
   ]
  },
  {
   "cell_type": "code",
   "execution_count": 13,
   "id": "3592e61a",
   "metadata": {},
   "outputs": [
    {
     "data": {
      "text/plain": [
       "Yes    88208\n",
       "No     22319\n",
       "Name: show, dtype: int64"
      ]
     },
     "execution_count": 13,
     "metadata": {},
     "output_type": "execute_result"
    }
   ],
   "source": [
    "df['show'].value_counts()"
   ]
  },
  {
   "cell_type": "markdown",
   "id": "7da30927",
   "metadata": {},
   "source": [
    "### Checking for missing values"
   ]
  },
  {
   "cell_type": "code",
   "execution_count": 14,
   "id": "d894f8d7",
   "metadata": {},
   "outputs": [
    {
     "data": {
      "text/plain": [
       "patient_id         0\n",
       "appointment_id     0\n",
       "gender             0\n",
       "scheduled_day      0\n",
       "appointment_day    0\n",
       "age                0\n",
       "neighbourhood      0\n",
       "scholarship        0\n",
       "hipertension       0\n",
       "diabetes           0\n",
       "alcoholism         0\n",
       "handcap            0\n",
       "sms_received       0\n",
       "show               0\n",
       "dtype: int64"
      ]
     },
     "execution_count": 14,
     "metadata": {},
     "output_type": "execute_result"
    }
   ],
   "source": [
    "df.isnull().sum()"
   ]
  },
  {
   "cell_type": "markdown",
   "id": "2b4887a0",
   "metadata": {},
   "source": [
    "NO MISSING VALUE"
   ]
  },
  {
   "cell_type": "markdown",
   "id": "345f2ac5",
   "metadata": {},
   "source": [
    "### A brief overview of all column names"
   ]
  },
  {
   "cell_type": "code",
   "execution_count": 15,
   "id": "9ce6e40d",
   "metadata": {},
   "outputs": [
    {
     "data": {
      "text/plain": [
       "Index(['patient_id', 'appointment_id', 'gender', 'scheduled_day',\n",
       "       'appointment_day', 'age', 'neighbourhood', 'scholarship',\n",
       "       'hipertension', 'diabetes', 'alcoholism', 'handcap', 'sms_received',\n",
       "       'show'],\n",
       "      dtype='object')"
      ]
     },
     "execution_count": 15,
     "metadata": {},
     "output_type": "execute_result"
    }
   ],
   "source": [
    "df.columns"
   ]
  },
  {
   "cell_type": "markdown",
   "id": "20458efa",
   "metadata": {},
   "source": [
    "## Exploratory Data Analysis"
   ]
  },
  {
   "cell_type": "code",
   "execution_count": 16,
   "id": "6e05afad",
   "metadata": {},
   "outputs": [
    {
     "data": {
      "text/html": [
       "<div>\n",
       "<style scoped>\n",
       "    .dataframe tbody tr th:only-of-type {\n",
       "        vertical-align: middle;\n",
       "    }\n",
       "\n",
       "    .dataframe tbody tr th {\n",
       "        vertical-align: top;\n",
       "    }\n",
       "\n",
       "    .dataframe thead th {\n",
       "        text-align: right;\n",
       "    }\n",
       "</style>\n",
       "<table border=\"1\" class=\"dataframe\">\n",
       "  <thead>\n",
       "    <tr style=\"text-align: right;\">\n",
       "      <th></th>\n",
       "      <th>age</th>\n",
       "      <th>scholarship</th>\n",
       "      <th>hipertension</th>\n",
       "      <th>diabetes</th>\n",
       "      <th>alcoholism</th>\n",
       "      <th>handcap</th>\n",
       "      <th>sms_received</th>\n",
       "    </tr>\n",
       "  </thead>\n",
       "  <tbody>\n",
       "    <tr>\n",
       "      <th>count</th>\n",
       "      <td>110527.000000</td>\n",
       "      <td>110527.000000</td>\n",
       "      <td>110527.000000</td>\n",
       "      <td>110527.000000</td>\n",
       "      <td>110527.000000</td>\n",
       "      <td>110527.000000</td>\n",
       "      <td>110527.000000</td>\n",
       "    </tr>\n",
       "    <tr>\n",
       "      <th>mean</th>\n",
       "      <td>37.088874</td>\n",
       "      <td>0.098266</td>\n",
       "      <td>0.197246</td>\n",
       "      <td>0.071865</td>\n",
       "      <td>0.030400</td>\n",
       "      <td>0.022248</td>\n",
       "      <td>0.321026</td>\n",
       "    </tr>\n",
       "    <tr>\n",
       "      <th>std</th>\n",
       "      <td>23.110205</td>\n",
       "      <td>0.297675</td>\n",
       "      <td>0.397921</td>\n",
       "      <td>0.258265</td>\n",
       "      <td>0.171686</td>\n",
       "      <td>0.161543</td>\n",
       "      <td>0.466873</td>\n",
       "    </tr>\n",
       "    <tr>\n",
       "      <th>min</th>\n",
       "      <td>-1.000000</td>\n",
       "      <td>0.000000</td>\n",
       "      <td>0.000000</td>\n",
       "      <td>0.000000</td>\n",
       "      <td>0.000000</td>\n",
       "      <td>0.000000</td>\n",
       "      <td>0.000000</td>\n",
       "    </tr>\n",
       "    <tr>\n",
       "      <th>25%</th>\n",
       "      <td>18.000000</td>\n",
       "      <td>0.000000</td>\n",
       "      <td>0.000000</td>\n",
       "      <td>0.000000</td>\n",
       "      <td>0.000000</td>\n",
       "      <td>0.000000</td>\n",
       "      <td>0.000000</td>\n",
       "    </tr>\n",
       "    <tr>\n",
       "      <th>50%</th>\n",
       "      <td>37.000000</td>\n",
       "      <td>0.000000</td>\n",
       "      <td>0.000000</td>\n",
       "      <td>0.000000</td>\n",
       "      <td>0.000000</td>\n",
       "      <td>0.000000</td>\n",
       "      <td>0.000000</td>\n",
       "    </tr>\n",
       "    <tr>\n",
       "      <th>75%</th>\n",
       "      <td>55.000000</td>\n",
       "      <td>0.000000</td>\n",
       "      <td>0.000000</td>\n",
       "      <td>0.000000</td>\n",
       "      <td>0.000000</td>\n",
       "      <td>0.000000</td>\n",
       "      <td>1.000000</td>\n",
       "    </tr>\n",
       "    <tr>\n",
       "      <th>max</th>\n",
       "      <td>115.000000</td>\n",
       "      <td>1.000000</td>\n",
       "      <td>1.000000</td>\n",
       "      <td>1.000000</td>\n",
       "      <td>1.000000</td>\n",
       "      <td>4.000000</td>\n",
       "      <td>1.000000</td>\n",
       "    </tr>\n",
       "  </tbody>\n",
       "</table>\n",
       "</div>"
      ],
      "text/plain": [
       "                 age    scholarship   hipertension       diabetes  \\\n",
       "count  110527.000000  110527.000000  110527.000000  110527.000000   \n",
       "mean       37.088874       0.098266       0.197246       0.071865   \n",
       "std        23.110205       0.297675       0.397921       0.258265   \n",
       "min        -1.000000       0.000000       0.000000       0.000000   \n",
       "25%        18.000000       0.000000       0.000000       0.000000   \n",
       "50%        37.000000       0.000000       0.000000       0.000000   \n",
       "75%        55.000000       0.000000       0.000000       0.000000   \n",
       "max       115.000000       1.000000       1.000000       1.000000   \n",
       "\n",
       "          alcoholism        handcap   sms_received  \n",
       "count  110527.000000  110527.000000  110527.000000  \n",
       "mean        0.030400       0.022248       0.321026  \n",
       "std         0.171686       0.161543       0.466873  \n",
       "min         0.000000       0.000000       0.000000  \n",
       "25%         0.000000       0.000000       0.000000  \n",
       "50%         0.000000       0.000000       0.000000  \n",
       "75%         0.000000       0.000000       1.000000  \n",
       "max         1.000000       4.000000       1.000000  "
      ]
     },
     "execution_count": 16,
     "metadata": {},
     "output_type": "execute_result"
    }
   ],
   "source": [
    "df_decribe = df.copy()\n",
    "df_describe = df.drop(columns = ['patient_id', 'appointment_id'])\n",
    "df_describe.describe()"
   ]
  },
  {
   "cell_type": "markdown",
   "id": "c801efd2",
   "metadata": {},
   "source": [
    "### Checking the age distributions of the patients"
   ]
  },
  {
   "cell_type": "code",
   "execution_count": 17,
   "id": "de38113e",
   "metadata": {},
   "outputs": [
    {
     "data": {
      "text/plain": [
       "''"
      ]
     },
     "execution_count": 17,
     "metadata": {},
     "output_type": "execute_result"
    },
    {
     "data": {
      "image/png": "[encoded data removed]",
      "text/plain": [
       "<Figure size 720x504 with 1 Axes>"
      ]
     },
     "metadata": {
      "needs_background": "light"
     },
     "output_type": "display_data"
    }
   ],
   "source": [
    "plt.figure(figsize = (10,7))\n",
    "plt.hist(df['age'], bins =50)\n",
    "plt.xlabel(\"Age\")\n",
    "plt.ylabel(\"Number of Patients\")\n",
    "plt.title(\"Number of Patients Vs Age\")\n",
    ";"
   ]
  },
  {
   "cell_type": "markdown",
   "id": "f52aa1e2",
   "metadata": {},
   "source": [
    "The distribution of the ages of patients is skewed to the right, with most patients being in the range of 0 to 60 years."
   ]
  },
  {
   "cell_type": "markdown",
   "id": "8ce77a13",
   "metadata": {},
   "source": [
    "### Checking number of patients that showed up for booked appointment"
   ]
  },
  {
   "cell_type": "code",
   "execution_count": 18,
   "id": "58e34d52",
   "metadata": {},
   "outputs": [
    {
     "data": {
      "image/png": "[encoded data removed]",
      "text/plain": [
       "<Figure size 432x288 with 1 Axes>"
      ]
     },
     "metadata": {
      "needs_background": "light"
     },
     "output_type": "display_data"
    }
   ],
   "source": [
    "df['show'].value_counts().plot(kind = 'bar')\n",
    "plt.xlabel(\"Patients showed up or not\")\n",
    "plt.ylabel(\"Number of Patients\")\n",
    "plt.title(\"Showing Number of Patients that attended booked appointment or otherwise\");"
   ]
  },
  {
   "cell_type": "markdown",
   "id": "94f71631",
   "metadata": {},
   "source": [
    "NB: Most patients showed up for booked appointments"
   ]
  },
  {
   "cell_type": "markdown",
   "id": "d7ba8fe0",
   "metadata": {},
   "source": [
    "### Calculating the difference in days of the appointment day from the scheduled day"
   ]
  },
  {
   "cell_type": "code",
   "execution_count": 19,
   "id": "daa534aa",
   "metadata": {},
   "outputs": [],
   "source": [
    "from datetime import datetime\n",
    "\n",
    "\n",
    "time_diff = (df['appointment_day'] - df['scheduled_day']).dt.days\n",
    "\n",
    "df.insert(5, \"time_diff(days)\", time_diff)"
   ]
  },
  {
   "cell_type": "code",
   "execution_count": 20,
   "id": "007e42e0",
   "metadata": {},
   "outputs": [
    {
     "data": {
      "text/html": [
       "<div>\n",
       "<style scoped>\n",
       "    .dataframe tbody tr th:only-of-type {\n",
       "        vertical-align: middle;\n",
       "    }\n",
       "\n",
       "    .dataframe tbody tr th {\n",
       "        vertical-align: top;\n",
       "    }\n",
       "\n",
       "    .dataframe thead th {\n",
       "        text-align: right;\n",
       "    }\n",
       "</style>\n",
       "<table border=\"1\" class=\"dataframe\">\n",
       "  <thead>\n",
       "    <tr style=\"text-align: right;\">\n",
       "      <th></th>\n",
       "      <th>patient_id</th>\n",
       "      <th>appointment_id</th>\n",
       "      <th>gender</th>\n",
       "      <th>scheduled_day</th>\n",
       "      <th>appointment_day</th>\n",
       "      <th>time_diff(days)</th>\n",
       "      <th>age</th>\n",
       "      <th>neighbourhood</th>\n",
       "      <th>scholarship</th>\n",
       "      <th>hipertension</th>\n",
       "      <th>diabetes</th>\n",
       "      <th>alcoholism</th>\n",
       "      <th>handcap</th>\n",
       "      <th>sms_received</th>\n",
       "      <th>show</th>\n",
       "    </tr>\n",
       "  </thead>\n",
       "  <tbody>\n",
       "    <tr>\n",
       "      <th>0</th>\n",
       "      <td>2.987250e+13</td>\n",
       "      <td>5642903</td>\n",
       "      <td>F</td>\n",
       "      <td>2016-04-29 18:38:08+00:00</td>\n",
       "      <td>2016-04-29 00:00:00+00:00</td>\n",
       "      <td>-1</td>\n",
       "      <td>62</td>\n",
       "      <td>JARDIM DA PENHA</td>\n",
       "      <td>0</td>\n",
       "      <td>1</td>\n",
       "      <td>0</td>\n",
       "      <td>0</td>\n",
       "      <td>0</td>\n",
       "      <td>0</td>\n",
       "      <td>Yes</td>\n",
       "    </tr>\n",
       "    <tr>\n",
       "      <th>1</th>\n",
       "      <td>5.589978e+14</td>\n",
       "      <td>5642503</td>\n",
       "      <td>M</td>\n",
       "      <td>2016-04-29 16:08:27+00:00</td>\n",
       "      <td>2016-04-29 00:00:00+00:00</td>\n",
       "      <td>-1</td>\n",
       "      <td>56</td>\n",
       "      <td>JARDIM DA PENHA</td>\n",
       "      <td>0</td>\n",
       "      <td>0</td>\n",
       "      <td>0</td>\n",
       "      <td>0</td>\n",
       "      <td>0</td>\n",
       "      <td>0</td>\n",
       "      <td>Yes</td>\n",
       "    </tr>\n",
       "    <tr>\n",
       "      <th>2</th>\n",
       "      <td>4.262962e+12</td>\n",
       "      <td>5642549</td>\n",
       "      <td>F</td>\n",
       "      <td>2016-04-29 16:19:04+00:00</td>\n",
       "      <td>2016-04-29 00:00:00+00:00</td>\n",
       "      <td>-1</td>\n",
       "      <td>62</td>\n",
       "      <td>MATA DA PRAIA</td>\n",
       "      <td>0</td>\n",
       "      <td>0</td>\n",
       "      <td>0</td>\n",
       "      <td>0</td>\n",
       "      <td>0</td>\n",
       "      <td>0</td>\n",
       "      <td>Yes</td>\n",
       "    </tr>\n",
       "    <tr>\n",
       "      <th>3</th>\n",
       "      <td>8.679512e+11</td>\n",
       "      <td>5642828</td>\n",
       "      <td>F</td>\n",
       "      <td>2016-04-29 17:29:31+00:00</td>\n",
       "      <td>2016-04-29 00:00:00+00:00</td>\n",
       "      <td>-1</td>\n",
       "      <td>8</td>\n",
       "      <td>PONTAL DE CAMBURI</td>\n",
       "      <td>0</td>\n",
       "      <td>0</td>\n",
       "      <td>0</td>\n",
       "      <td>0</td>\n",
       "      <td>0</td>\n",
       "      <td>0</td>\n",
       "      <td>Yes</td>\n",
       "    </tr>\n",
       "    <tr>\n",
       "      <th>4</th>\n",
       "      <td>8.841186e+12</td>\n",
       "      <td>5642494</td>\n",
       "      <td>F</td>\n",
       "      <td>2016-04-29 16:07:23+00:00</td>\n",
       "      <td>2016-04-29 00:00:00+00:00</td>\n",
       "      <td>-1</td>\n",
       "      <td>56</td>\n",
       "      <td>JARDIM DA PENHA</td>\n",
       "      <td>0</td>\n",
       "      <td>1</td>\n",
       "      <td>1</td>\n",
       "      <td>0</td>\n",
       "      <td>0</td>\n",
       "      <td>0</td>\n",
       "      <td>Yes</td>\n",
       "    </tr>\n",
       "  </tbody>\n",
       "</table>\n",
       "</div>"
      ],
      "text/plain": [
       "     patient_id  appointment_id gender             scheduled_day  \\\n",
       "0  2.987250e+13         5642903      F 2016-04-29 18:38:08+00:00   \n",
       "1  5.589978e+14         5642503      M 2016-04-29 16:08:27+00:00   \n",
       "2  4.262962e+12         5642549      F 2016-04-29 16:19:04+00:00   \n",
       "3  8.679512e+11         5642828      F 2016-04-29 17:29:31+00:00   \n",
       "4  8.841186e+12         5642494      F 2016-04-29 16:07:23+00:00   \n",
       "\n",
       "            appointment_day  time_diff(days)  age      neighbourhood  \\\n",
       "0 2016-04-29 00:00:00+00:00               -1   62    JARDIM DA PENHA   \n",
       "1 2016-04-29 00:00:00+00:00               -1   56    JARDIM DA PENHA   \n",
       "2 2016-04-29 00:00:00+00:00               -1   62      MATA DA PRAIA   \n",
       "3 2016-04-29 00:00:00+00:00               -1    8  PONTAL DE CAMBURI   \n",
       "4 2016-04-29 00:00:00+00:00               -1   56    JARDIM DA PENHA   \n",
       "\n",
       "   scholarship  hipertension  diabetes  alcoholism  handcap  sms_received show  \n",
       "0            0             1         0           0        0             0  Yes  \n",
       "1            0             0         0           0        0             0  Yes  \n",
       "2            0             0         0           0        0             0  Yes  \n",
       "3            0             0         0           0        0             0  Yes  \n",
       "4            0             1         1           0        0             0  Yes  "
      ]
     },
     "execution_count": 20,
     "metadata": {},
     "output_type": "execute_result"
    }
   ],
   "source": [
    "df.head()"
   ]
  },
  {
   "cell_type": "markdown",
   "id": "433cec0b",
   "metadata": {},
   "source": [
    "There ought not to be negative in the time difference. Python rounded it up to the nearest integer which shouldn't be.\n",
    "<l> Hence, I will be adding +1 to the time difference in days to make it accurate."
   ]
  },
  {
   "cell_type": "code",
   "execution_count": 21,
   "id": "553ef011",
   "metadata": {},
   "outputs": [],
   "source": [
    "df[\"time_diff(days)\"] = df[\"time_diff(days)\"]+1"
   ]
  },
  {
   "cell_type": "code",
   "execution_count": 22,
   "id": "60210aa4",
   "metadata": {},
   "outputs": [
    {
     "data": {
      "text/html": [
       "<div>\n",
       "<style scoped>\n",
       "    .dataframe tbody tr th:only-of-type {\n",
       "        vertical-align: middle;\n",
       "    }\n",
       "\n",
       "    .dataframe tbody tr th {\n",
       "        vertical-align: top;\n",
       "    }\n",
       "\n",
       "    .dataframe thead th {\n",
       "        text-align: right;\n",
       "    }\n",
       "</style>\n",
       "<table border=\"1\" class=\"dataframe\">\n",
       "  <thead>\n",
       "    <tr style=\"text-align: right;\">\n",
       "      <th></th>\n",
       "      <th>patient_id</th>\n",
       "      <th>appointment_id</th>\n",
       "      <th>gender</th>\n",
       "      <th>scheduled_day</th>\n",
       "      <th>appointment_day</th>\n",
       "      <th>time_diff(days)</th>\n",
       "      <th>age</th>\n",
       "      <th>neighbourhood</th>\n",
       "      <th>scholarship</th>\n",
       "      <th>hipertension</th>\n",
       "      <th>diabetes</th>\n",
       "      <th>alcoholism</th>\n",
       "      <th>handcap</th>\n",
       "      <th>sms_received</th>\n",
       "      <th>show</th>\n",
       "    </tr>\n",
       "  </thead>\n",
       "  <tbody>\n",
       "    <tr>\n",
       "      <th>0</th>\n",
       "      <td>2.987250e+13</td>\n",
       "      <td>5642903</td>\n",
       "      <td>F</td>\n",
       "      <td>2016-04-29 18:38:08+00:00</td>\n",
       "      <td>2016-04-29 00:00:00+00:00</td>\n",
       "      <td>0</td>\n",
       "      <td>62</td>\n",
       "      <td>JARDIM DA PENHA</td>\n",
       "      <td>0</td>\n",
       "      <td>1</td>\n",
       "      <td>0</td>\n",
       "      <td>0</td>\n",
       "      <td>0</td>\n",
       "      <td>0</td>\n",
       "      <td>Yes</td>\n",
       "    </tr>\n",
       "    <tr>\n",
       "      <th>1</th>\n",
       "      <td>5.589978e+14</td>\n",
       "      <td>5642503</td>\n",
       "      <td>M</td>\n",
       "      <td>2016-04-29 16:08:27+00:00</td>\n",
       "      <td>2016-04-29 00:00:00+00:00</td>\n",
       "      <td>0</td>\n",
       "      <td>56</td>\n",
       "      <td>JARDIM DA PENHA</td>\n",
       "      <td>0</td>\n",
       "      <td>0</td>\n",
       "      <td>0</td>\n",
       "      <td>0</td>\n",
       "      <td>0</td>\n",
       "      <td>0</td>\n",
       "      <td>Yes</td>\n",
       "    </tr>\n",
       "    <tr>\n",
       "      <th>2</th>\n",
       "      <td>4.262962e+12</td>\n",
       "      <td>5642549</td>\n",
       "      <td>F</td>\n",
       "      <td>2016-04-29 16:19:04+00:00</td>\n",
       "      <td>2016-04-29 00:00:00+00:00</td>\n",
       "      <td>0</td>\n",
       "      <td>62</td>\n",
       "      <td>MATA DA PRAIA</td>\n",
       "      <td>0</td>\n",
       "      <td>0</td>\n",
       "      <td>0</td>\n",
       "      <td>0</td>\n",
       "      <td>0</td>\n",
       "      <td>0</td>\n",
       "      <td>Yes</td>\n",
       "    </tr>\n",
       "    <tr>\n",
       "      <th>3</th>\n",
       "      <td>8.679512e+11</td>\n",
       "      <td>5642828</td>\n",
       "      <td>F</td>\n",
       "      <td>2016-04-29 17:29:31+00:00</td>\n",
       "      <td>2016-04-29 00:00:00+00:00</td>\n",
       "      <td>0</td>\n",
       "      <td>8</td>\n",
       "      <td>PONTAL DE CAMBURI</td>\n",
       "      <td>0</td>\n",
       "      <td>0</td>\n",
       "      <td>0</td>\n",
       "      <td>0</td>\n",
       "      <td>0</td>\n",
       "      <td>0</td>\n",
       "      <td>Yes</td>\n",
       "    </tr>\n",
       "    <tr>\n",
       "      <th>4</th>\n",
       "      <td>8.841186e+12</td>\n",
       "      <td>5642494</td>\n",
       "      <td>F</td>\n",
       "      <td>2016-04-29 16:07:23+00:00</td>\n",
       "      <td>2016-04-29 00:00:00+00:00</td>\n",
       "      <td>0</td>\n",
       "      <td>56</td>\n",
       "      <td>JARDIM DA PENHA</td>\n",
       "      <td>0</td>\n",
       "      <td>1</td>\n",
       "      <td>1</td>\n",
       "      <td>0</td>\n",
       "      <td>0</td>\n",
       "      <td>0</td>\n",
       "      <td>Yes</td>\n",
       "    </tr>\n",
       "  </tbody>\n",
       "</table>\n",
       "</div>"
      ],
      "text/plain": [
       "     patient_id  appointment_id gender             scheduled_day  \\\n",
       "0  2.987250e+13         5642903      F 2016-04-29 18:38:08+00:00   \n",
       "1  5.589978e+14         5642503      M 2016-04-29 16:08:27+00:00   \n",
       "2  4.262962e+12         5642549      F 2016-04-29 16:19:04+00:00   \n",
       "3  8.679512e+11         5642828      F 2016-04-29 17:29:31+00:00   \n",
       "4  8.841186e+12         5642494      F 2016-04-29 16:07:23+00:00   \n",
       "\n",
       "            appointment_day  time_diff(days)  age      neighbourhood  \\\n",
       "0 2016-04-29 00:00:00+00:00                0   62    JARDIM DA PENHA   \n",
       "1 2016-04-29 00:00:00+00:00                0   56    JARDIM DA PENHA   \n",
       "2 2016-04-29 00:00:00+00:00                0   62      MATA DA PRAIA   \n",
       "3 2016-04-29 00:00:00+00:00                0    8  PONTAL DE CAMBURI   \n",
       "4 2016-04-29 00:00:00+00:00                0   56    JARDIM DA PENHA   \n",
       "\n",
       "   scholarship  hipertension  diabetes  alcoholism  handcap  sms_received show  \n",
       "0            0             1         0           0        0             0  Yes  \n",
       "1            0             0         0           0        0             0  Yes  \n",
       "2            0             0         0           0        0             0  Yes  \n",
       "3            0             0         0           0        0             0  Yes  \n",
       "4            0             1         1           0        0             0  Yes  "
      ]
     },
     "execution_count": 22,
     "metadata": {},
     "output_type": "execute_result"
    }
   ],
   "source": [
    "df.head()"
   ]
  },
  {
   "cell_type": "code",
   "execution_count": 23,
   "id": "245f72e5",
   "metadata": {},
   "outputs": [
    {
     "data": {
      "text/plain": [
       "0      38563\n",
       "2       6725\n",
       "4       5290\n",
       "1       5213\n",
       "7       4906\n",
       "       ...  \n",
       "82         1\n",
       "127        1\n",
       "126        1\n",
       "151        1\n",
       "123        1\n",
       "Name: time_diff(days), Length: 131, dtype: int64"
      ]
     },
     "execution_count": 23,
     "metadata": {},
     "output_type": "execute_result"
    }
   ],
   "source": [
    "df[\"time_diff(days)\"].value_counts()"
   ]
  },
  {
   "cell_type": "markdown",
   "id": "8f050314",
   "metadata": {},
   "source": [
    "### Checking for the range of period of the appointment days of the patients"
   ]
  },
  {
   "cell_type": "code",
   "execution_count": 24,
   "id": "d3b575e5",
   "metadata": {},
   "outputs": [
    {
     "data": {
      "text/plain": [
       "2016-06-06 00:00:00+00:00    4692\n",
       "2016-05-16 00:00:00+00:00    4613\n",
       "2016-05-09 00:00:00+00:00    4520\n",
       "2016-05-30 00:00:00+00:00    4514\n",
       "2016-06-08 00:00:00+00:00    4479\n",
       "2016-05-11 00:00:00+00:00    4474\n",
       "2016-06-01 00:00:00+00:00    4464\n",
       "2016-06-07 00:00:00+00:00    4416\n",
       "2016-05-12 00:00:00+00:00    4394\n",
       "2016-05-02 00:00:00+00:00    4376\n",
       "2016-05-18 00:00:00+00:00    4373\n",
       "2016-05-17 00:00:00+00:00    4372\n",
       "2016-06-02 00:00:00+00:00    4310\n",
       "2016-05-10 00:00:00+00:00    4308\n",
       "2016-05-31 00:00:00+00:00    4279\n",
       "2016-05-05 00:00:00+00:00    4273\n",
       "2016-05-19 00:00:00+00:00    4270\n",
       "2016-05-03 00:00:00+00:00    4256\n",
       "2016-05-04 00:00:00+00:00    4168\n",
       "2016-06-03 00:00:00+00:00    4090\n",
       "2016-05-24 00:00:00+00:00    4009\n",
       "2016-05-13 00:00:00+00:00    3987\n",
       "2016-05-25 00:00:00+00:00    3909\n",
       "2016-05-06 00:00:00+00:00    3879\n",
       "2016-05-20 00:00:00+00:00    3828\n",
       "2016-04-29 00:00:00+00:00    3235\n",
       "2016-05-14 00:00:00+00:00      39\n",
       "Name: appointment_day, dtype: int64"
      ]
     },
     "execution_count": 24,
     "metadata": {},
     "output_type": "execute_result"
    }
   ],
   "source": [
    "app_day = df['appointment_day'].value_counts()\n",
    "app_day"
   ]
  },
  {
   "cell_type": "code",
   "execution_count": 25,
   "id": "bda68f49",
   "metadata": {},
   "outputs": [
    {
     "data": {
      "image/png": "[encoded data removed]",
      "text/plain": [
       "<Figure size 720x360 with 1 Axes>"
      ]
     },
     "metadata": {
      "needs_background": "light"
     },
     "output_type": "display_data"
    }
   ],
   "source": [
    "plt.figure(figsize = (10,5))\n",
    "app_day.plot(color = 'red')\n",
    "plt.xlabel(\"Appointment Days\")\n",
    "plt.ylabel(\"Number of patients\")\n",
    "plt.xticks(rotation = 90)\n",
    "plt.title(\"Number of Patients Vs Appointment Days\");"
   ]
  },
  {
   "cell_type": "markdown",
   "id": "11723179",
   "metadata": {},
   "source": [
    "There is a relatively steady number of booked appointments per day. Although there was a sudden drop on \"2016-05-14.\""
   ]
  },
  {
   "cell_type": "markdown",
   "id": "1eedcd31",
   "metadata": {},
   "source": [
    "### Extracting the day name, month name , and year of the scheduled date and appointment date\n",
    "\n",
    "This will be used for some analysis"
   ]
  },
  {
   "cell_type": "code",
   "execution_count": 26,
   "id": "ce0d62d7",
   "metadata": {},
   "outputs": [],
   "source": [
    "df.insert(6, \"scheduled_day_\", df['scheduled_day'].dt.day_name())\n",
    "\n",
    "df.insert(7, \"scheduled_month\", df['scheduled_day'].dt.month_name())\n",
    "\n",
    "df.insert(8, \"scheduled_year\", df['scheduled_day'].dt.year)\n",
    "\n",
    "df.insert(9, \"appointment_day_\", df['appointment_day'].dt.day_name())\n",
    "\n",
    "df.insert(10, \"appointment_month\", df['appointment_day'].dt.month_name())\n",
    "\n",
    "df.insert(11, \"appointment_year\", df['appointment_day'].dt.year)"
   ]
  },
  {
   "cell_type": "code",
   "execution_count": 27,
   "id": "2f9f543d",
   "metadata": {},
   "outputs": [
    {
     "data": {
      "text/html": [
       "<div>\n",
       "<style scoped>\n",
       "    .dataframe tbody tr th:only-of-type {\n",
       "        vertical-align: middle;\n",
       "    }\n",
       "\n",
       "    .dataframe tbody tr th {\n",
       "        vertical-align: top;\n",
       "    }\n",
       "\n",
       "    .dataframe thead th {\n",
       "        text-align: right;\n",
       "    }\n",
       "</style>\n",
       "<table border=\"1\" class=\"dataframe\">\n",
       "  <thead>\n",
       "    <tr style=\"text-align: right;\">\n",
       "      <th></th>\n",
       "      <th>patient_id</th>\n",
       "      <th>appointment_id</th>\n",
       "      <th>gender</th>\n",
       "      <th>scheduled_day</th>\n",
       "      <th>appointment_day</th>\n",
       "      <th>time_diff(days)</th>\n",
       "      <th>scheduled_day_</th>\n",
       "      <th>scheduled_month</th>\n",
       "      <th>scheduled_year</th>\n",
       "      <th>appointment_day_</th>\n",
       "      <th>...</th>\n",
       "      <th>appointment_year</th>\n",
       "      <th>age</th>\n",
       "      <th>neighbourhood</th>\n",
       "      <th>scholarship</th>\n",
       "      <th>hipertension</th>\n",
       "      <th>diabetes</th>\n",
       "      <th>alcoholism</th>\n",
       "      <th>handcap</th>\n",
       "      <th>sms_received</th>\n",
       "      <th>show</th>\n",
       "    </tr>\n",
       "  </thead>\n",
       "  <tbody>\n",
       "    <tr>\n",
       "      <th>0</th>\n",
       "      <td>2.987250e+13</td>\n",
       "      <td>5642903</td>\n",
       "      <td>F</td>\n",
       "      <td>2016-04-29 18:38:08+00:00</td>\n",
       "      <td>2016-04-29 00:00:00+00:00</td>\n",
       "      <td>0</td>\n",
       "      <td>Friday</td>\n",
       "      <td>April</td>\n",
       "      <td>2016</td>\n",
       "      <td>Friday</td>\n",
       "      <td>...</td>\n",
       "      <td>2016</td>\n",
       "      <td>62</td>\n",
       "      <td>JARDIM DA PENHA</td>\n",
       "      <td>0</td>\n",
       "      <td>1</td>\n",
       "      <td>0</td>\n",
       "      <td>0</td>\n",
       "      <td>0</td>\n",
       "      <td>0</td>\n",
       "      <td>Yes</td>\n",
       "    </tr>\n",
       "    <tr>\n",
       "      <th>1</th>\n",
       "      <td>5.589978e+14</td>\n",
       "      <td>5642503</td>\n",
       "      <td>M</td>\n",
       "      <td>2016-04-29 16:08:27+00:00</td>\n",
       "      <td>2016-04-29 00:00:00+00:00</td>\n",
       "      <td>0</td>\n",
       "      <td>Friday</td>\n",
       "      <td>April</td>\n",
       "      <td>2016</td>\n",
       "      <td>Friday</td>\n",
       "      <td>...</td>\n",
       "      <td>2016</td>\n",
       "      <td>56</td>\n",
       "      <td>JARDIM DA PENHA</td>\n",
       "      <td>0</td>\n",
       "      <td>0</td>\n",
       "      <td>0</td>\n",
       "      <td>0</td>\n",
       "      <td>0</td>\n",
       "      <td>0</td>\n",
       "      <td>Yes</td>\n",
       "    </tr>\n",
       "    <tr>\n",
       "      <th>2</th>\n",
       "      <td>4.262962e+12</td>\n",
       "      <td>5642549</td>\n",
       "      <td>F</td>\n",
       "      <td>2016-04-29 16:19:04+00:00</td>\n",
       "      <td>2016-04-29 00:00:00+00:00</td>\n",
       "      <td>0</td>\n",
       "      <td>Friday</td>\n",
       "      <td>April</td>\n",
       "      <td>2016</td>\n",
       "      <td>Friday</td>\n",
       "      <td>...</td>\n",
       "      <td>2016</td>\n",
       "      <td>62</td>\n",
       "      <td>MATA DA PRAIA</td>\n",
       "      <td>0</td>\n",
       "      <td>0</td>\n",
       "      <td>0</td>\n",
       "      <td>0</td>\n",
       "      <td>0</td>\n",
       "      <td>0</td>\n",
       "      <td>Yes</td>\n",
       "    </tr>\n",
       "    <tr>\n",
       "      <th>3</th>\n",
       "      <td>8.679512e+11</td>\n",
       "      <td>5642828</td>\n",
       "      <td>F</td>\n",
       "      <td>2016-04-29 17:29:31+00:00</td>\n",
       "      <td>2016-04-29 00:00:00+00:00</td>\n",
       "      <td>0</td>\n",
       "      <td>Friday</td>\n",
       "      <td>April</td>\n",
       "      <td>2016</td>\n",
       "      <td>Friday</td>\n",
       "      <td>...</td>\n",
       "      <td>2016</td>\n",
       "      <td>8</td>\n",
       "      <td>PONTAL DE CAMBURI</td>\n",
       "      <td>0</td>\n",
       "      <td>0</td>\n",
       "      <td>0</td>\n",
       "      <td>0</td>\n",
       "      <td>0</td>\n",
       "      <td>0</td>\n",
       "      <td>Yes</td>\n",
       "    </tr>\n",
       "    <tr>\n",
       "      <th>4</th>\n",
       "      <td>8.841186e+12</td>\n",
       "      <td>5642494</td>\n",
       "      <td>F</td>\n",
       "      <td>2016-04-29 16:07:23+00:00</td>\n",
       "      <td>2016-04-29 00:00:00+00:00</td>\n",
       "      <td>0</td>\n",
       "      <td>Friday</td>\n",
       "      <td>April</td>\n",
       "      <td>2016</td>\n",
       "      <td>Friday</td>\n",
       "      <td>...</td>\n",
       "      <td>2016</td>\n",
       "      <td>56</td>\n",
       "      <td>JARDIM DA PENHA</td>\n",
       "      <td>0</td>\n",
       "      <td>1</td>\n",
       "      <td>1</td>\n",
       "      <td>0</td>\n",
       "      <td>0</td>\n",
       "      <td>0</td>\n",
       "      <td>Yes</td>\n",
       "    </tr>\n",
       "  </tbody>\n",
       "</table>\n",
       "<p>5 rows × 21 columns</p>\n",
       "</div>"
      ],
      "text/plain": [
       "     patient_id  appointment_id gender             scheduled_day  \\\n",
       "0  2.987250e+13         5642903      F 2016-04-29 18:38:08+00:00   \n",
       "1  5.589978e+14         5642503      M 2016-04-29 16:08:27+00:00   \n",
       "2  4.262962e+12         5642549      F 2016-04-29 16:19:04+00:00   \n",
       "3  8.679512e+11         5642828      F 2016-04-29 17:29:31+00:00   \n",
       "4  8.841186e+12         5642494      F 2016-04-29 16:07:23+00:00   \n",
       "\n",
       "            appointment_day  time_diff(days) scheduled_day_ scheduled_month  \\\n",
       "0 2016-04-29 00:00:00+00:00                0         Friday           April   \n",
       "1 2016-04-29 00:00:00+00:00                0         Friday           April   \n",
       "2 2016-04-29 00:00:00+00:00                0         Friday           April   \n",
       "3 2016-04-29 00:00:00+00:00                0         Friday           April   \n",
       "4 2016-04-29 00:00:00+00:00                0         Friday           April   \n",
       "\n",
       "   scheduled_year appointment_day_  ... appointment_year  age  \\\n",
       "0            2016           Friday  ...             2016   62   \n",
       "1            2016           Friday  ...             2016   56   \n",
       "2            2016           Friday  ...             2016   62   \n",
       "3            2016           Friday  ...             2016    8   \n",
       "4            2016           Friday  ...             2016   56   \n",
       "\n",
       "       neighbourhood scholarship  hipertension  diabetes  alcoholism  handcap  \\\n",
       "0    JARDIM DA PENHA           0             1         0           0        0   \n",
       "1    JARDIM DA PENHA           0             0         0           0        0   \n",
       "2      MATA DA PRAIA           0             0         0           0        0   \n",
       "3  PONTAL DE CAMBURI           0             0         0           0        0   \n",
       "4    JARDIM DA PENHA           0             1         1           0        0   \n",
       "\n",
       "   sms_received  show  \n",
       "0             0   Yes  \n",
       "1             0   Yes  \n",
       "2             0   Yes  \n",
       "3             0   Yes  \n",
       "4             0   Yes  \n",
       "\n",
       "[5 rows x 21 columns]"
      ]
     },
     "execution_count": 27,
     "metadata": {},
     "output_type": "execute_result"
    }
   ],
   "source": [
    "df.head()"
   ]
  },
  {
   "cell_type": "markdown",
   "id": "46a950c5",
   "metadata": {},
   "source": [
    "# QUESTIONS AND DEDUCTIONS"
   ]
  },
  {
   "cell_type": "markdown",
   "id": "b28a3e6e",
   "metadata": {},
   "source": [
    "## Do male patient have possibility to show up more than female?"
   ]
  },
  {
   "cell_type": "code",
   "execution_count": 28,
   "id": "e6d2d2f4",
   "metadata": {},
   "outputs": [
    {
     "data": {
      "image/png": "[encoded data removed]",
      "text/plain": [
       "<Figure size 504x360 with 1 Axes>"
      ]
     },
     "metadata": {
      "needs_background": "light"
     },
     "output_type": "display_data"
    }
   ],
   "source": [
    "plt.figure(figsize = (7,5))\n",
    "sns.countplot(x=df['gender'], hue=df['show'], alpha=1.0)\n",
    "plt.xlabel(\"Gender\")\n",
    "plt.ylabel('Number of patients')\n",
    "plt.title(\"Numbers of people that showed up for appointment based on gender\");"
   ]
  },
  {
   "cell_type": "markdown",
   "id": "2233f025",
   "metadata": {},
   "source": [
    "**Brief deduction**: From the above chart, it is seen that Females are more represented amongst the patients. Hence, females are have greater number of patients that show up for appointments. \n",
    "\n",
    "In order to determine the likelihood of a particular gender to show up for appoitment, we need to investigate the percentage of each gender that showed up in relation to the number of person's of the gender that registered."
   ]
  },
  {
   "cell_type": "markdown",
   "id": "69bb7071",
   "metadata": {},
   "source": [
    "#### Determining the percentage of male and females patients that showed up for appointment"
   ]
  },
  {
   "cell_type": "code",
   "execution_count": 29,
   "id": "a9fc1408",
   "metadata": {},
   "outputs": [],
   "source": [
    "male_df = df.query('gender == \"M\" ')\n",
    "female_df = df.query('gender == \"F\" ')"
   ]
  },
  {
   "cell_type": "code",
   "execution_count": 30,
   "id": "66dd6d16",
   "metadata": {},
   "outputs": [
    {
     "data": {
      "text/plain": [
       "0.8003205211052808"
      ]
     },
     "execution_count": 30,
     "metadata": {},
     "output_type": "execute_result"
    }
   ],
   "source": [
    "male_show_up = len(male_df.query('show == \"Yes\"')) / len(male_df)\n",
    "male_show_up"
   ]
  },
  {
   "cell_type": "code",
   "execution_count": 31,
   "id": "76e2a1c5",
   "metadata": {},
   "outputs": [
    {
     "data": {
      "text/plain": [
       "0.7968541202672605"
      ]
     },
     "execution_count": 31,
     "metadata": {},
     "output_type": "execute_result"
    }
   ],
   "source": [
    "female_show_up = len(female_df.query('show == \"Yes\"')) / len(female_df)\n",
    "female_show_up"
   ]
  },
  {
   "cell_type": "code",
   "execution_count": 32,
   "id": "61e01e82",
   "metadata": {},
   "outputs": [
    {
     "data": {
      "image/png": "[encoded data removed]",
      "text/plain": [
       "<Figure size 504x360 with 1 Axes>"
      ]
     },
     "metadata": {
      "needs_background": "light"
     },
     "output_type": "display_data"
    }
   ],
   "source": [
    "plt.figure(figsize = (7,5))\n",
    "plt.ylim(.7, .9)\n",
    "plt.bar(['female', 'male'], [female_show_up, male_show_up])\n",
    "plt.xlabel(\"Gender\")\n",
    "plt.ylabel(\"Tendecy to show up for booked appointment\")\n",
    "plt.title(\"Tendecy to show up for booked appointment based on patients' gender\");"
   ]
  },
  {
   "cell_type": "markdown",
   "id": "c5ba4550",
   "metadata": {},
   "source": [
    "**CONCLUSION**: We can deduce that **male patients** have more likelihood of showing up for appointments with a record of **80.03%** chances. Although female patients have a closer likelihood as well too, falling short a bit with a **79.685%** chances of showing up for appointment\n",
    "    "
   ]
  },
  {
   "cell_type": "markdown",
   "id": "3dbfe795",
   "metadata": {},
   "source": [
    "## What are the location of hospitals that patients showed up for appointments the most?"
   ]
  },
  {
   "cell_type": "code",
   "execution_count": 33,
   "id": "b3eb5676",
   "metadata": {},
   "outputs": [],
   "source": [
    "yes_df = df.query('show == \"Yes\" ')"
   ]
  },
  {
   "cell_type": "code",
   "execution_count": 34,
   "id": "2dcc07e4",
   "metadata": {},
   "outputs": [],
   "source": [
    "loc_count = pd.DataFrame(df['neighbourhood'].value_counts())"
   ]
  },
  {
   "cell_type": "code",
   "execution_count": 35,
   "id": "6c5dd280",
   "metadata": {},
   "outputs": [
    {
     "data": {
      "text/plain": [
       "<Figure size 720x360 with 0 Axes>"
      ]
     },
     "metadata": {},
     "output_type": "display_data"
    },
    {
     "data": {
      "image/png": "[encoded data removed]",
      "text/plain": [
       "<Figure size 432x288 with 1 Axes>"
      ]
     },
     "metadata": {
      "needs_background": "light"
     },
     "output_type": "display_data"
    }
   ],
   "source": [
    "plt.figure(figsize = (10,5))\n",
    "loc_count[:15].plot(kind = 'bar', title = \"Top 15 Hospital locations with highest number of patients that booked appointment\")\n",
    "plt.xlabel(\"Location of Hospital\")\n",
    "plt.ylabel(\"Number of Patients\");"
   ]
  },
  {
   "cell_type": "code",
   "execution_count": 36,
   "id": "1364a755",
   "metadata": {},
   "outputs": [],
   "source": [
    "loc_yes_count = pd.DataFrame(yes_df['neighbourhood'].value_counts())"
   ]
  },
  {
   "cell_type": "code",
   "execution_count": 37,
   "id": "bfd67253",
   "metadata": {},
   "outputs": [
    {
     "data": {
      "text/plain": [
       "<Figure size 720x360 with 0 Axes>"
      ]
     },
     "metadata": {},
     "output_type": "display_data"
    },
    {
     "data": {
      "image/png": "[encoded data removed]",
      "text/plain": [
       "<Figure size 432x288 with 1 Axes>"
      ]
     },
     "metadata": {
      "needs_background": "light"
     },
     "output_type": "display_data"
    }
   ],
   "source": [
    "plt.figure(figsize = (10,5))\n",
    "loc_yes_count[:15].plot(kind = 'bar', title = \"Top 15 Hospital locations with highest number of patients that showed up for appointment\")\n",
    "plt.xlabel(\"Location of Hospital\")\n",
    "plt.ylabel(\"Number of Patients\");"
   ]
  },
  {
   "cell_type": "code",
   "execution_count": 38,
   "id": "d2d89b05",
   "metadata": {},
   "outputs": [],
   "source": [
    "percent_loc_count = loc_yes_count['neighbourhood']/loc_count['neighbourhood']"
   ]
  },
  {
   "cell_type": "code",
   "execution_count": 39,
   "id": "24a781d3",
   "metadata": {},
   "outputs": [
    {
     "data": {
      "text/plain": [
       "PARQUE INDUSTRIAL    1.000000\n",
       "ILHA DO BOI          0.914286\n",
       "AEROPORTO            0.875000\n",
       "MÁRIO CYPRESTE       0.854447\n",
       "SOLON BORGES         0.852878\n",
       "                       ...   \n",
       "JESUS DE NAZARETH    0.756046\n",
       "ITARARÉ              0.737336\n",
       "SANTA CLARA          0.735178\n",
       "SANTA CECÍLIA        0.725446\n",
       "SANTOS DUMONT        0.710815\n",
       "Name: neighbourhood, Length: 80, dtype: float64"
      ]
     },
     "execution_count": 39,
     "metadata": {},
     "output_type": "execute_result"
    }
   ],
   "source": [
    "percent_loc_count.sort_values(ascending = False).dropna()"
   ]
  },
  {
   "cell_type": "code",
   "execution_count": 40,
   "id": "6798d4d6",
   "metadata": {},
   "outputs": [
    {
     "data": {
      "text/plain": [
       "''"
      ]
     },
     "execution_count": 40,
     "metadata": {},
     "output_type": "execute_result"
    },
    {
     "data": {
      "image/png": "[encoded data removed]",
      "text/plain": [
       "<Figure size 720x360 with 1 Axes>"
      ]
     },
     "metadata": {
      "needs_background": "light"
     },
     "output_type": "display_data"
    }
   ],
   "source": [
    "\n",
    "plt.figure(figsize = (10,5))\n",
    "(\n",
    "    percent_loc_count.sort_values(ascending = False)\n",
    " .dropna()[:15]\n",
    " .plot(kind = 'bar', title = 'Top 15 Hospital locations with high number of percentage patient turnout')\n",
    "\n",
    ")\n",
    "plt.xlabel(\"Average Patients' Turnout\")\n",
    "plt.ylabel(\"Number of Patients\")\n",
    "\n",
    ";"
   ]
  },
  {
   "cell_type": "markdown",
   "id": "ede40998",
   "metadata": {},
   "source": [
    "**CONCLUSION:** JARDIM CAMBURI is the location of hospital witht the highest number of patients and highest number of petients that show up for appointment.\n",
    "This might be because it is relatively cheaper and accessible to the majority of the people, ***but it has lesser probability of patients showing up for booked appointments***"
   ]
  },
  {
   "cell_type": "markdown",
   "id": "8678c1e0",
   "metadata": {},
   "source": [
    "## Do patients with financial assistance show up more for booked appointemnts?"
   ]
  },
  {
   "cell_type": "code",
   "execution_count": 41,
   "id": "a05d9b40",
   "metadata": {},
   "outputs": [],
   "source": [
    "no_scholarship_df = df.query('scholarship == 0 ')\n",
    "scholarship_df = df.query('scholarship == 1 ')"
   ]
  },
  {
   "cell_type": "code",
   "execution_count": 42,
   "id": "a336cdc6",
   "metadata": {},
   "outputs": [
    {
     "data": {
      "image/png": "[encoded data removed]",
      "text/plain": [
       "<Figure size 504x360 with 1 Axes>"
      ]
     },
     "metadata": {
      "needs_background": "light"
     },
     "output_type": "display_data"
    }
   ],
   "source": [
    "plt.figure(figsize = (7,5))\n",
    "sns.countplot(x=df['scholarship'], hue=df['show'])\n",
    "plt.title(\"Numbers of people that showed up for appointment based on scholarship\")\n",
    "plt.xlabel(\"Fianncail assistance\")\n",
    "plt.ylabel(\"Number of patients\");"
   ]
  },
  {
   "cell_type": "code",
   "execution_count": 43,
   "id": "1e678c43",
   "metadata": {},
   "outputs": [],
   "source": [
    "no_scholarship_show_up = len(no_scholarship_df.query('show == \"Yes\"')) / len(no_scholarship_df)\n",
    "scholarship_show_up = len(scholarship_df.query('show == \"Yes\"')) / len(scholarship_df)"
   ]
  },
  {
   "cell_type": "code",
   "execution_count": 44,
   "id": "f21ab72e",
   "metadata": {},
   "outputs": [
    {
     "data": {
      "image/png": "[encoded data removed]",
      "text/plain": [
       "<Figure size 504x360 with 1 Axes>"
      ]
     },
     "metadata": {
      "needs_background": "light"
     },
     "output_type": "display_data"
    }
   ],
   "source": [
    "plt.figure(figsize = (7,5))\n",
    "plt.bar(['No scholarship', 'Scholarship'], [no_scholarship_show_up, scholarship_show_up])\n",
    "plt.title(\"Percentage of patients that showed up for appointment\")\n",
    "plt.xlabel(\"Fianncail assistance\")\n",
    "plt.ylabel(\"Likelihood to show up for appointment\");"
   ]
  },
  {
   "cell_type": "markdown",
   "id": "56974980",
   "metadata": {},
   "source": [
    "**CONCLUSION:** Being part of the Fome Zero network of federal assistance programs does not equate to high possibility of showing up for booked appointment. It is seen that people who do not have financial assistance even tend to show up the most. This can be attributed to the fact that **patients do not joke with what they use their money to pay for.**"
   ]
  },
  {
   "cell_type": "markdown",
   "id": "c26a54cd",
   "metadata": {},
   "source": [
    "## Age distribution of patients that show up for booked appointment"
   ]
  },
  {
   "cell_type": "code",
   "execution_count": 45,
   "id": "ff0f337f",
   "metadata": {},
   "outputs": [
    {
     "data": {
      "text/plain": [
       " 0      3539\n",
       " 1      2273\n",
       " 52     1746\n",
       " 49     1652\n",
       " 53     1651\n",
       "        ... \n",
       " 115       5\n",
       " 100       4\n",
       " 102       2\n",
       " 99        1\n",
       "-1         1\n",
       "Name: age, Length: 104, dtype: int64"
      ]
     },
     "execution_count": 45,
     "metadata": {},
     "output_type": "execute_result"
    }
   ],
   "source": [
    "df['age'].value_counts()"
   ]
  },
  {
   "cell_type": "markdown",
   "id": "618195ef",
   "metadata": {},
   "source": [
    "There is a patient with age -1 which is not possible. I will be replacing it with the modal age.\n",
    "    \n",
    "Also, there are patients with age 0. This implies they are babies less than 1 year old.\n",
    "    \n",
    "**From the value counts of the patients' age, patients with age 0 are the most represented.This means that most of the patients are babies**\n"
   ]
  },
  {
   "cell_type": "code",
   "execution_count": 46,
   "id": "92fa45ff",
   "metadata": {},
   "outputs": [],
   "source": [
    "df['age'] = df['age'].replace(-1, 1) #It could be realised that the -1 was an error. Most likely the person wanted to input 1"
   ]
  },
  {
   "cell_type": "code",
   "execution_count": 47,
   "id": "306196c7",
   "metadata": {},
   "outputs": [],
   "source": [
    "age_count = df.groupby(['age','show'], as_index=False).count()"
   ]
  },
  {
   "cell_type": "code",
   "execution_count": 48,
   "id": "94e64819",
   "metadata": {},
   "outputs": [
    {
     "data": {
      "text/plain": [
       "''"
      ]
     },
     "execution_count": 48,
     "metadata": {},
     "output_type": "execute_result"
    },
    {
     "data": {
      "image/png": "[encoded data removed]",
      "text/plain": [
       "<Figure size 720x360 with 1 Axes>"
      ]
     },
     "metadata": {
      "needs_background": "light"
     },
     "output_type": "display_data"
    }
   ],
   "source": [
    "plt.figure(figsize=(10,5))\n",
    "sns.lineplot(x=age_count['age'], y=age_count['patient_id'], hue=age_count['show'], alpha=1.0)\n",
    "plt.xlabel(\"Age\")\n",
    "plt.ylabel(\"Number of patients\")\n",
    "plt.title(\"Number of pateints Vs Age\")\n",
    ";"
   ]
  },
  {
   "cell_type": "markdown",
   "id": "470c5c6a",
   "metadata": {},
   "source": [
    "**CONCLUSION:** Aside patients of age 0 and 1, patients aroung ages 49-55 tends to show up for booked appointments more."
   ]
  },
  {
   "cell_type": "markdown",
   "id": "984ee404",
   "metadata": {},
   "source": [
    "## Does time difference between scheduled day and appointment day affect the tendency of a patient showing up for booked appointment?"
   ]
  },
  {
   "cell_type": "code",
   "execution_count": 49,
   "id": "be316c63",
   "metadata": {},
   "outputs": [
    {
     "data": {
      "text/plain": [
       "2016    110527\n",
       "Name: appointment_year, dtype: int64"
      ]
     },
     "execution_count": 49,
     "metadata": {},
     "output_type": "execute_result"
    }
   ],
   "source": [
    "df['appointment_year'].value_counts()"
   ]
  },
  {
   "cell_type": "code",
   "execution_count": 50,
   "id": "038f5760",
   "metadata": {},
   "outputs": [
    {
     "data": {
      "text/plain": [
       "2016    110465\n",
       "2015        62\n",
       "Name: scheduled_year, dtype: int64"
      ]
     },
     "execution_count": 50,
     "metadata": {},
     "output_type": "execute_result"
    }
   ],
   "source": [
    "df['scheduled_year'].value_counts()"
   ]
  },
  {
   "cell_type": "code",
   "execution_count": 51,
   "id": "87f25ba5",
   "metadata": {},
   "outputs": [
    {
     "data": {
      "image/png": "[encoded data removed]",
      "text/plain": [
       "<Figure size 720x360 with 1 Axes>"
      ]
     },
     "metadata": {
      "needs_background": "light"
     },
     "output_type": "display_data"
    }
   ],
   "source": [
    "diff_count = df.groupby(['time_diff(days)','show'], as_index=False).count()\n",
    "diff_count.drop(diff_count[diff_count['time_diff(days)'] < 0].index, inplace=True) # Any row with difference between scheduled day and appointment day less than 0 is an error\n",
    "plt.figure(figsize=(10,5))\n",
    "sns.lineplot(x=diff_count['time_diff(days)'], y=diff_count['patient_id'], hue=diff_count['show'])\n",
    "plt.xlabel(\"Differnce in appointment and scheduled day (days)\")\n",
    "plt.ylabel(\"Number of patients\")\n",
    "plt.title(\"How Differnce in appointment and scheduled day affects Patients showing up\");"
   ]
  },
  {
   "cell_type": "markdown",
   "id": "534294ba",
   "metadata": {},
   "source": [
    "**CONCLUSION:** The difference between scheduled day and appointment day do not necessarily affect the tendency of a patient showing up.\n",
    "<li> However, we have high number of patients whose appointment day is within 25 days (a month) of their scheduled day."
   ]
  },
  {
   "cell_type": "markdown",
   "id": "56f57547",
   "metadata": {},
   "source": [
    "## Do the appointment day of the week affect likelihood of patients showing up for a booked appointment?"
   ]
  },
  {
   "cell_type": "code",
   "execution_count": 52,
   "id": "f9437045",
   "metadata": {},
   "outputs": [
    {
     "data": {
      "text/plain": [
       "Wednesday    0.803108\n",
       "Tuesday      0.799064\n",
       "Monday       0.793529\n",
       "Friday       0.787739\n",
       "Thursday     0.806459\n",
       "Saturday     0.769231\n",
       "Name: appointment_day_, dtype: float64"
      ]
     },
     "execution_count": 52,
     "metadata": {},
     "output_type": "execute_result"
    }
   ],
   "source": [
    "appointment_day_percent = yes_df['appointment_day_'].value_counts()/df['appointment_day_'].value_counts()\n",
    "appointment_day_percent"
   ]
  },
  {
   "cell_type": "code",
   "execution_count": 53,
   "id": "5621f66d",
   "metadata": {},
   "outputs": [
    {
     "data": {
      "image/png": "[encoded data removed]",
      "text/plain": [
       "<Figure size 720x360 with 1 Axes>"
      ]
     },
     "metadata": {
      "needs_background": "light"
     },
     "output_type": "display_data"
    }
   ],
   "source": [
    "plt.figure(figsize=(10,5))\n",
    "sns.countplot(x=df['appointment_day_'], hue=df['show'])\n",
    "plt.title(\"\");"
   ]
  },
  {
   "cell_type": "code",
   "execution_count": 54,
   "id": "4cb6e7c6",
   "metadata": {},
   "outputs": [
    {
     "data": {
      "image/png": "[encoded data removed]",
      "text/plain": [
       "<Figure size 720x360 with 1 Axes>"
      ]
     },
     "metadata": {
      "needs_background": "light"
     },
     "output_type": "display_data"
    }
   ],
   "source": [
    "plt.figure(figsize = (10,5))\n",
    "plt.ylim(.7, .85)\n",
    "appointment_day_percent.plot(kind='bar')\n",
    "plt.xlabel(\"Days of the week\")\n",
    "plt.ylabel(\"Percentage\")\n",
    "plt.title(\"Percentage of patients that showed up based on days of the week\");"
   ]
  },
  {
   "cell_type": "markdown",
   "id": "22fcca0f",
   "metadata": {},
   "source": [
    "**CONCLUSION:** The day of the week the appointment day falls do not influence the likelihood of patients showing up for a booked appointment. It can be seen that there is a range of 76-81% tendency of patients showing up for booked appointment in any of the day of the week. But **Thursday tops the list with 80.65% chances of patients eventually going for their booked appointment.**"
   ]
  },
  {
   "cell_type": "markdown",
   "id": "75094945",
   "metadata": {},
   "source": [
    "## CORRELATION OF 'scholarship', 'hypertension', 'diabetes', 'alcoholism', 'handcap', 'sms_received', with tendency of patients showing up or not."
   ]
  },
  {
   "cell_type": "code",
   "execution_count": 55,
   "id": "91cb0b39",
   "metadata": {},
   "outputs": [],
   "source": [
    "new_df = df.copy()"
   ]
  },
  {
   "cell_type": "code",
   "execution_count": 56,
   "id": "f4d7f217",
   "metadata": {},
   "outputs": [],
   "source": [
    "new_df['show'] = new_df['show'].map({\n",
    "    'Yes':1,\n",
    "    'No':0\n",
    "})"
   ]
  },
  {
   "cell_type": "code",
   "execution_count": 57,
   "id": "35e2a081",
   "metadata": {},
   "outputs": [],
   "source": [
    "numeric_df = new_df[['scholarship', 'hipertension', 'diabetes', 'alcoholism', 'handcap', 'sms_received', 'show']]"
   ]
  },
  {
   "cell_type": "code",
   "execution_count": 58,
   "id": "3bb50b15",
   "metadata": {},
   "outputs": [
    {
     "data": {
      "text/plain": [
       "scholarship    -0.029135\n",
       "hipertension    0.035701\n",
       "diabetes        0.015180\n",
       "alcoholism      0.000196\n",
       "handcap         0.006076\n",
       "sms_received   -0.126431\n",
       "Name: show, dtype: float64"
      ]
     },
     "execution_count": 58,
     "metadata": {},
     "output_type": "execute_result"
    }
   ],
   "source": [
    "nc = numeric_df.corr()['show'][:-1]\n",
    "nc"
   ]
  },
  {
   "cell_type": "code",
   "execution_count": 59,
   "id": "478117e8",
   "metadata": {},
   "outputs": [
    {
     "data": {
      "image/png": "[encoded data removed]",
      "text/plain": [
       "<Figure size 720x360 with 2 Axes>"
      ]
     },
     "metadata": {
      "needs_background": "light"
     },
     "output_type": "display_data"
    }
   ],
   "source": [
    "plt.figure(figsize = (10,5))\n",
    "sns.heatmap(numeric_df.corr(), annot=True)\n",
    "plt.title(\"Pearson Correlation\");"
   ]
  },
  {
   "cell_type": "markdown",
   "id": "0fe27779",
   "metadata": {},
   "source": [
    "**CONCLUSION:** Based on Pearson correlation, it can be seen that only 'sms_received' column has a fairly correlated linear regression with the tendency of patients showing up for a booked appointment or not.\n",
    "<li> Nevertheless, this doesn't imply that other features are not determinant of the tendency of showing up for booked appointments"
   ]
  },
  {
   "cell_type": "markdown",
   "id": "8dd2925e",
   "metadata": {},
   "source": [
    "## Which of the following conditions triggers patients to show up for a booked appoitnment: 'hipertension', 'diabetes', 'alcoholism', 'handcap', 'sms_received'?"
   ]
  },
  {
   "cell_type": "code",
   "execution_count": 60,
   "id": "575c5dd3",
   "metadata": {},
   "outputs": [
    {
     "data": {
      "image/png": "[encoded data removed]",
      "text/plain": [
       "<Figure size 504x360 with 1 Axes>"
      ]
     },
     "metadata": {
      "needs_background": "light"
     },
     "output_type": "display_data"
    }
   ],
   "source": [
    "hyp_percent = yes_df['hipertension'].value_counts()/df['hipertension'].value_counts()\n",
    "\n",
    "plt.figure(figsize = (7,5))\n",
    "plt.ylim(.7, .85)\n",
    "hyp_percent.plot(kind='bar', color='red', title = \"Tendency of Hypertensive patients to show up for appointment\")\n",
    "plt.xlabel(\"Hypertensive patients\")\n",
    "plt.ylabel(\"Likelihood of showing up for appointment(%)\");"
   ]
  },
  {
   "cell_type": "code",
   "execution_count": 61,
   "id": "9730e012",
   "metadata": {},
   "outputs": [
    {
     "data": {
      "image/png": "[encoded data removed]",
      "text/plain": [
       "<Figure size 504x360 with 1 Axes>"
      ]
     },
     "metadata": {
      "needs_background": "light"
     },
     "output_type": "display_data"
    }
   ],
   "source": [
    "diab_percent = yes_df['diabetes'].value_counts()/df['diabetes'].value_counts()\n",
    "\n",
    "plt.figure(figsize = (7,5))\n",
    "plt.ylim(.7, .85)\n",
    "diab_percent.plot(kind='bar', color='red', title = \"Tendency of Diabetic patients to show up for appointment\")\n",
    "plt.xlabel(\"Diabetic patients\")\n",
    "plt.ylabel(\"Likelihood of showing up for appointment(%)\");"
   ]
  },
  {
   "cell_type": "code",
   "execution_count": 62,
   "id": "f78919ba",
   "metadata": {},
   "outputs": [
    {
     "data": {
      "image/png": "[encoded data removed]",
      "text/plain": [
       "<Figure size 504x360 with 1 Axes>"
      ]
     },
     "metadata": {
      "needs_background": "light"
     },
     "output_type": "display_data"
    }
   ],
   "source": [
    "alc_percent = yes_df['alcoholism'].value_counts()/df['alcoholism'].value_counts()\n",
    "\n",
    "plt.figure(figsize = (7,5))\n",
    "plt.ylim(.7, .85)\n",
    "alc_percent.plot(kind='bar', color='red', title = \"Tendency of Alcoholic patients to show up for appointment\")\n",
    "plt.xlabel(\"Alcoholic patients\")\n",
    "plt.ylabel(\"Likelihood of showing up for appointment(%)\");"
   ]
  },
  {
   "cell_type": "code",
   "execution_count": 63,
   "id": "48c2919e",
   "metadata": {},
   "outputs": [
    {
     "data": {
      "text/plain": [
       "''"
      ]
     },
     "execution_count": 63,
     "metadata": {},
     "output_type": "execute_result"
    },
    {
     "data": {
      "image/png": "[encoded data removed]",
      "text/plain": [
       "<Figure size 720x360 with 1 Axes>"
      ]
     },
     "metadata": {
      "needs_background": "light"
     },
     "output_type": "display_data"
    }
   ],
   "source": [
    "handcap_percent = yes_df['handcap'].value_counts()/df['handcap'].value_counts()\n",
    "\n",
    "plt.figure(figsize = (10,5))\n",
    "plt.ylim(.6, .85)\n",
    "handcap_percent.plot(kind='bar', color='red', title = \"Tendency of Handcap patients to show up for appointment\")\n",
    "plt.xlabel(\"Handcap\")\n",
    "plt.ylabel(\"Likelihood of showing up for appointment(%)\")\n",
    ";"
   ]
  },
  {
   "cell_type": "code",
   "execution_count": 64,
   "id": "cc97c413",
   "metadata": {},
   "outputs": [
    {
     "data": {
      "image/png": "[encoded data removed]",
      "text/plain": [
       "<Figure size 720x360 with 1 Axes>"
      ]
     },
     "metadata": {
      "needs_background": "light"
     },
     "output_type": "display_data"
    }
   ],
   "source": [
    "sms_percent = yes_df['sms_received'].value_counts()/df['sms_received'].value_counts()\n",
    "\n",
    "plt.figure(figsize = (10,5))\n",
    "plt.ylim(.7, .85)\n",
    "sms_percent.plot(kind='bar', color='red', title = \"Tendency of patients that received sms to show up for appointment\")\n",
    "plt.xlabel(\"sms received\")\n",
    "plt.ylabel(\"Likelihood of showing up for appointment(%)\");"
   ]
  },
  {
   "cell_type": "markdown",
   "id": "2de9cc2c",
   "metadata": {},
   "source": [
    "Even patients that do not receive sms showed up for booked appointment more than people that got sms."
   ]
  },
  {
   "cell_type": "code",
   "execution_count": 65,
   "id": "b2940c36",
   "metadata": {},
   "outputs": [
    {
     "name": "stdout",
     "output_type": "stream",
     "text": [
      "Hypertension: \n",
      "0    0.790963\n",
      "1    0.826980\n",
      "Name: hipertension, dtype: float64\n",
      "\n",
      "Diabetes: \n",
      "0    0.796372\n",
      "1    0.819967\n",
      "Name: diabetes, dtype: float64\n",
      "\n",
      "Alcoholism: \n",
      "0    0.798054\n",
      "1    0.798512\n",
      "Name: alcoholism, dtype: float64\n",
      "\n",
      "Handcap: \n",
      "0    0.797647\n",
      "1    0.820764\n",
      "2    0.797814\n",
      "3    0.769231\n",
      "4    0.666667\n",
      "Name: handcap, dtype: float64\n",
      "\n",
      "Sms_received: \n",
      "0    0.832967\n",
      "1    0.724255\n",
      "Name: sms_received, dtype: float64\n"
     ]
    }
   ],
   "source": [
    "print(f'Hypertension: \\n{hyp_percent}\\n')\n",
    "print(f'Diabetes: \\n{diab_percent}\\n')\n",
    "print(f'Alcoholism: \\n{alc_percent}\\n')\n",
    "print(f'Handcap: \\n{handcap_percent}\\n')\n",
    "print(f'Sms_received: \\n{sms_percent}')"
   ]
  },
  {
   "cell_type": "markdown",
   "id": "d4107e84",
   "metadata": {},
   "source": [
    "**CONCLUSION**: Out of the following conditions: ***'hypertension', 'diabetes', 'alcoholism', 'handcap', 'sms_received',*** people that **did not receive** sms have the largest percentage turn out. This could be a result of curiosity and fear to get medical attention.\n",
    "**People who have Hypertension** have a higher possibility of showing up for booked appointment as well."
   ]
  },
  {
   "cell_type": "code",
   "execution_count": null,
   "id": "a7d295c6",
   "metadata": {},
   "outputs": [],
   "source": []
  }
 ],
 "metadata": {
  "kernelspec": {
   "display_name": "Python 3 (ipykernel)",
   "language": "python",
   "name": "python3"
  },
  "language_info": {
   "codemirror_mode": {
    "name": "ipython",
    "version": 3
   },
   "file_extension": ".py",
   "mimetype": "text/x-python",
   "name": "python",
   "nbconvert_exporter": "python",
   "pygments_lexer": "ipython3",
   "version": "3.10.5"
  }
 },
 "nbformat": 4,
 "nbformat_minor": 5
}
